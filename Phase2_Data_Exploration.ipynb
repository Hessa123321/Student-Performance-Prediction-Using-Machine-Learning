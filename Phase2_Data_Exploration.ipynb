{
 "cells": [
  {
   "cell_type": "code",
   "execution_count": 14,
   "id": "2e406ab3",
   "metadata": {},
   "outputs": [
    {
     "name": "stdout",
     "output_type": "stream",
     "text": [
      "\n",
      "\u001b[1m[\u001b[0m\u001b[34;49mnotice\u001b[0m\u001b[1;39;49m]\u001b[0m\u001b[39;49m A new release of pip is available: \u001b[0m\u001b[31;49m24.2\u001b[0m\u001b[39;49m -> \u001b[0m\u001b[32;49m25.3\u001b[0m\n",
      "\u001b[1m[\u001b[0m\u001b[34;49mnotice\u001b[0m\u001b[1;39;49m]\u001b[0m\u001b[39;49m To update, run: \u001b[0m\u001b[32;49mpip install --upgrade pip\u001b[0m\n",
      "Note: you may need to restart the kernel to use updated packages.\n"
     ]
    }
   ],
   "source": [
    "%pip install seaborn -q"
   ]
  },
  {
   "cell_type": "code",
   "execution_count": 15,
   "id": "65f3fb38-da20-4b1c-8292-b2c1ff7dc23f",
   "metadata": {},
   "outputs": [
    {
     "name": "stdout",
     "output_type": "stream",
     "text": [
      "Dataset loaded successfully!\n",
      "Shape: (30986, 6)\n",
      "Training samples: 24788, Testing samples: 6198\n",
      "Passed\n",
      "0    12406\n",
      "1    12382\n",
      "Name: count, dtype: int64\n"
     ]
    }
   ],
   "source": [
    "import pandas as pd\n",
    "import numpy as np\n",
    "import matplotlib.pyplot as plt\n",
    "import seaborn as sns\n",
    "from sklearn.model_selection import train_test_split\n",
    "from sklearn.preprocessing import StandardScaler\n",
    "from sklearn.metrics import (\n",
    "    accuracy_score, precision_score, recall_score, f1_score, roc_auc_score, classification_report, roc_curve\n",
    ")\n",
    "import warnings\n",
    "warnings.filterwarnings('ignore')\n",
    "\n",
    "# Load dataset\n",
    "df = pd.read_csv(\"Dataset/student_performance_cleaned.csv\")\n",
    "print(\"Dataset loaded successfully!\")\n",
    "print(f\"Shape: {df.shape}\")\n",
    "df.head()\n",
    "df[\"Participation in Extracurricular Activities\"] = df[\"Participation in Extracurricular Activities\"].map({\"Yes\": 1, \"No\": 0})\n",
    "\n",
    "# --- Replace remaining Yes/No (safety) ---\n",
    "df = df.replace({\"Yes\": 1, \"No\": 0}).infer_objects(copy=False)\n",
    "\n",
    "# --- Feature Engineering ---\n",
    "df[\"Engagement_Score\"] = df[\"Attendance Rate\"] * (1 + df[\"Participation in Extracurricular Activities\"])\n",
    "df[\"Study_Efficiency\"] = df[\"Previous Grades\"] / (df[\"Study Hours per Week\"] + 0.001)\n",
    "df[\"Consistency\"] = (df[\"Attendance Rate\"] + df[\"Previous Grades\"]) / 2\n",
    "df[\"Time_Tradeoff\"] = df[\"Study Hours per Week\"] * (1 - df[\"Attendance Rate\"])\n",
    "\n",
    "# --- Define Features and Target ---\n",
    "X = df.drop(columns=[\"Student ID\", \"Passed\"])\n",
    "y = df[\"Passed\"]\n",
    "\n",
    "# --- Split Dataset ---\n",
    "X_train, X_test, y_train, y_test = train_test_split(\n",
    "    X, y, test_size=0.2, random_state=42, stratify=y\n",
    ")\n",
    "\n",
    "print(f\"Training samples: {X_train.shape[0]}, Testing samples: {X_test.shape[0]}\")\n",
    "print(y_train.value_counts())\n"
   ]
  },
  {
   "cell_type": "code",
   "execution_count": 16,
   "id": "87745292-0eae-41ed-b7d6-6f8161732058",
   "metadata": {},
   "outputs": [
    {
     "name": "stdout",
     "output_type": "stream",
     "text": [
      "=== Logistic Regression Evaluation ===\n",
      "Accuracy : 0.486\n",
      "Precision: 0.483\n",
      "Recall   : 0.424\n",
      "F1 Score : 0.452\n",
      "ROC-AUC  : 0.489\n"
     ]
    }
   ],
   "source": [
    "# Model 1: Logistic Regression\n",
    "\n",
    "from sklearn.linear_model import LogisticRegression\n",
    "log_reg = LogisticRegression(max_iter=1000, random_state=42)\n",
    "log_reg.fit(X_train, y_train)\n",
    "y_pred = log_reg.predict(X_test)\n",
    "y_prob = log_reg.predict_proba(X_test)[:, 1]\n",
    "print(\"=== Logistic Regression Evaluation ===\")\n",
    "print(f\"Accuracy : {accuracy_score(y_test, y_pred):.3f}\")\n",
    "print(f\"Precision: {precision_score(y_test, y_pred):.3f}\")\n",
    "print(f\"Recall   : {recall_score(y_test, y_pred):.3f}\")\n",
    "print(f\"F1 Score : {f1_score(y_test, y_pred):.3f}\")\n",
    "print(f\"ROC-AUC  : {roc_auc_score(y_test, y_prob):.3f}\")"
   ]
  },
  {
   "cell_type": "code",
   "execution_count": 17,
   "id": "2f329994-c937-4ebb-9057-3243f9da18b1",
   "metadata": {},
   "outputs": [
    {
     "name": "stdout",
     "output_type": "stream",
     "text": [
      "=== Random Forest Evaluation ===\n",
      "Accuracy : 0.505\n",
      "Precision: 0.504\n",
      "Recall   : 0.522\n",
      "F1 Score : 0.513\n",
      "ROC-AUC  : 0.503\n"
     ]
    }
   ],
   "source": [
    "#  Model 2: Random Forest Classifier \n",
    "\n",
    "from sklearn.ensemble import RandomForestClassifier\n",
    "rf = RandomForestClassifier(\n",
    "    n_estimators=500,\n",
    "    max_depth=15,\n",
    "    min_samples_split=4,\n",
    "    min_samples_leaf=2,\n",
    "    class_weight='balanced_subsample',\n",
    "    random_state=42,\n",
    "    n_jobs=-1\n",
    ")\n",
    "rf.fit(X_train, y_train)\n",
    "y_pred_rf = rf.predict(X_test)\n",
    "y_prob_rf = rf.predict_proba(X_test)[:, 1]\n",
    "print(\"=== Random Forest Evaluation ===\")\n",
    "print(f\"Accuracy : {accuracy_score(y_test, y_pred_rf):.3f}\")\n",
    "print(f\"Precision: {precision_score(y_test, y_pred_rf):.3f}\")\n",
    "print(f\"Recall   : {recall_score(y_test, y_pred_rf):.3f}\")\n",
    "print(f\"F1 Score : {f1_score(y_test, y_pred_rf):.3f}\")\n",
    "print(f\"ROC-AUC  : {roc_auc_score(y_test, y_prob_rf):.3f}\")"
   ]
  },
  {
   "cell_type": "code",
   "execution_count": 18,
   "id": "54693095",
   "metadata": {},
   "outputs": [
    {
     "name": "stdout",
     "output_type": "stream",
     "text": [
      "=== Extra Trees Evaluation ===\n",
      "Accuracy : 0.494\n",
      "Precision: 0.494\n",
      "Recall   : 0.506\n",
      "F1 Score : 0.500\n",
      "ROC-AUC  : 0.494\n"
     ]
    }
   ],
   "source": [
    "# Model 3: Extra Trees Classifier\n",
    "from sklearn.ensemble import ExtraTreesClassifier\n",
    "\n",
    "et = ExtraTreesClassifier(\n",
    "    n_estimators=500,\n",
    "    max_depth=15,\n",
    "    min_samples_split=4,\n",
    "    min_samples_leaf=2,\n",
    "    class_weight='balanced',\n",
    "    random_state=42,\n",
    "    n_jobs=-1\n",
    ")\n",
    "et.fit(X_train, y_train)\n",
    "y_pred_et = et.predict(X_test)\n",
    "y_prob_et = et.predict_proba(X_test)[:, 1]\n",
    "\n",
    "print(\"=== Extra Trees Evaluation ===\")\n",
    "print(f\"Accuracy : {accuracy_score(y_test, y_pred_et):.3f}\")\n",
    "print(f\"Precision: {precision_score(y_test, y_pred_et):.3f}\")\n",
    "print(f\"Recall   : {recall_score(y_test, y_pred_et):.3f}\")\n",
    "print(f\"F1 Score : {f1_score(y_test, y_pred_et):.3f}\")\n",
    "print(f\"ROC-AUC  : {roc_auc_score(y_test, y_prob_et):.3f}\")\n"
   ]
  },
  {
   "cell_type": "code",
   "execution_count": 19,
   "id": "31174991-b9f1-47bb-878d-bde6e86c1123",
   "metadata": {},
   "outputs": [
    {
     "name": "stdout",
     "output_type": "stream",
     "text": [
      "=== Model Performance Comparison ===\n"
     ]
    },
    {
     "data": {
      "text/html": [
       "<div>\n",
       "<style scoped>\n",
       "    .dataframe tbody tr th:only-of-type {\n",
       "        vertical-align: middle;\n",
       "    }\n",
       "\n",
       "    .dataframe tbody tr th {\n",
       "        vertical-align: top;\n",
       "    }\n",
       "\n",
       "    .dataframe thead th {\n",
       "        text-align: right;\n",
       "    }\n",
       "</style>\n",
       "<table border=\"1\" class=\"dataframe\">\n",
       "  <thead>\n",
       "    <tr style=\"text-align: right;\">\n",
       "      <th></th>\n",
       "      <th>Model</th>\n",
       "      <th>Accuracy</th>\n",
       "      <th>Precision</th>\n",
       "      <th>Recall</th>\n",
       "      <th>F1-Score</th>\n",
       "    </tr>\n",
       "  </thead>\n",
       "  <tbody>\n",
       "    <tr>\n",
       "      <th>0</th>\n",
       "      <td>Logistic Regression</td>\n",
       "      <td>0.485641</td>\n",
       "      <td>0.483076</td>\n",
       "      <td>0.424096</td>\n",
       "      <td>0.451668</td>\n",
       "    </tr>\n",
       "    <tr>\n",
       "      <th>1</th>\n",
       "      <td>Random Forest</td>\n",
       "      <td>0.504840</td>\n",
       "      <td>0.504215</td>\n",
       "      <td>0.521641</td>\n",
       "      <td>0.512780</td>\n",
       "    </tr>\n",
       "    <tr>\n",
       "      <th>2</th>\n",
       "      <td>Extra Trees</td>\n",
       "      <td>0.493869</td>\n",
       "      <td>0.493539</td>\n",
       "      <td>0.505814</td>\n",
       "      <td>0.499601</td>\n",
       "    </tr>\n",
       "  </tbody>\n",
       "</table>\n",
       "</div>"
      ],
      "text/plain": [
       "                 Model  Accuracy  Precision    Recall  F1-Score\n",
       "0  Logistic Regression  0.485641   0.483076  0.424096  0.451668\n",
       "1        Random Forest  0.504840   0.504215  0.521641  0.512780\n",
       "2          Extra Trees  0.493869   0.493539  0.505814  0.499601"
      ]
     },
     "metadata": {},
     "output_type": "display_data"
    },
    {
     "data": {
      "image/png": "[encoded data removed]",
      "text/plain": [
       "<Figure size 640x480 with 1 Axes>"
      ]
     },
     "metadata": {},
     "output_type": "display_data"
    }
   ],
   "source": [
    "# Cell 5 – Model Performance Comparison and Visualization\n",
    "results = pd.DataFrame({\n",
    "    \"Model\": [\"Logistic Regression\", \"Random Forest\", \"Extra Trees\"],\n",
    "    \"Accuracy\": [\n",
    "        accuracy_score(y_test, y_pred),\n",
    "        accuracy_score(y_test, y_pred_rf),\n",
    "        accuracy_score(y_test, y_pred_et),\n",
    "    ],\n",
    "    \"Precision\": [\n",
    "        precision_score(y_test, y_pred),\n",
    "        precision_score(y_test, y_pred_rf),\n",
    "        precision_score(y_test, y_pred_et),\n",
    "    ],\n",
    "    \"Recall\": [\n",
    "        recall_score(y_test, y_pred),\n",
    "        recall_score(y_test, y_pred_rf),\n",
    "        recall_score(y_test, y_pred_et),\n",
    "    ],\n",
    "    \"F1-Score\": [\n",
    "        f1_score(y_test, y_pred),\n",
    "        f1_score(y_test, y_pred_rf),\n",
    "        f1_score(y_test, y_pred_et),\n",
    "    ]\n",
    "})\n",
    "print(\"=== Model Performance Comparison ===\")\n",
    "display(results)\n",
    "sns.barplot(x=\"Model\", y=\"Accuracy\", data=results, palette=\"coolwarm\")\n",
    "plt.title(\"Model Accuracy Comparison\")\n",
    "plt.show()\n"
   ]
  },
  {
   "cell_type": "code",
   "execution_count": null,
   "id": "14f79745-cdd3-4b0b-9f36-8267b949eb66",
   "metadata": {},
   "outputs": [],
   "source": []
  },
  {
   "cell_type": "code",
   "execution_count": null,
   "id": "5718f145-9aad-4964-802a-8f25541ccc6c",
   "metadata": {},
   "outputs": [],
   "source": []
  }
 ],
 "metadata": {
  "kernelspec": {
   "display_name": ".venv",
   "language": "python",
   "name": "python3"
  },
  "language_info": {
   "codemirror_mode": {
    "name": "ipython",
    "version": 3
   },
   "file_extension": ".py",
   "mimetype": "text/x-python",
   "name": "python",
   "nbconvert_exporter": "python",
   "pygments_lexer": "ipython3",
   "version": "3.13.0"
  }
 },
 "nbformat": 4,
 "nbformat_minor": 5
}
