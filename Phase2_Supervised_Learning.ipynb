{
 "cells": [
  {
   "cell_type": "markdown",
   "metadata": {},
   "source": [
    "# Phase 2: Supervised Learning - Student Performance Prediction\n",
    "\n",
    "**Course:** SWE485 - Selected Topics in Software Engineering  \n",
    "**Project:** Student Academic Success Prediction System  \n",
    "**Phase:** 2 - Supervised Learning  \n",
    "\n",
    "---\n",
    "\n",
    "## Objective\n",
    "Build and compare supervised learning models to predict whether a student will **pass or fail** based on features like study hours, attendance rate, previous grades, and extracurricular participation."
   ]
  },
  {
   "cell_type": "markdown",
   "metadata": {},
   "source": [
    "---\n",
    "\n",
    "## 1. Algorithm Selection & Justification\n",
    "\n",
    "For this binary classification problem (Pass/Fail), we selected **two algorithms** with different strengths:\n",
    "\n",
    "### **Algorithm 1: Logistic Regression**\n",
    "**Why this algorithm?**\n",
    "- **Interpretability:** Provides clear coefficients showing how each feature affects pass/fail probability\n",
    "- **Baseline Model:** Industry-standard baseline for binary classification\n",
    "- **Fast Training:** Efficient on small-to-medium datasets like ours (~40K samples)\n",
    "- **Probabilistic Output:** Gives probability scores, useful for understanding prediction confidence\n",
    "- **Well-suited for linearly separable data:** If features have linear relationships with the target\n",
    "\n",
    "### **Algorithm 2: Random Forest Classifier**\n",
    "**Why this algorithm?**\n",
    "- **Handles Non-linearity:** Can capture complex, non-linear relationships between features\n",
    "- **Feature Importance:** Automatically ranks features by importance for interpretability\n",
    "- **Robust to Outliers:** Less sensitive to extreme values than linear models\n",
    "- **Ensemble Learning:** Combines multiple decision trees to reduce overfitting\n",
    "- **No Feature Scaling Required:** Works well even without normalization (though we normalized already)\n",
    "- **Strong Performance:** Often achieves high accuracy on structured/tabular data\n",
    "\n",
    "### **Why NOT other algorithms?**\n",
    "- **Neural Networks:** Overkill for this dataset size and complexity; require more tuning and data\n",
    "- **SVM:** Can be slow on 40K samples without kernel tricks; less interpretable than our choices\n",
    "- **Naive Bayes:** Assumes feature independence, which may not hold (e.g., study hours and grades are correlated)\n",
    "\n",
    "**Our hypothesis:** Random Forest will outperform Logistic Regression if there are non-linear patterns in the data."
   ]
  },
  {
   "cell_type": "markdown",
   "metadata": {},
   "source": [
    "---\n",
    "\n",
    "## 2. Implementation"
   ]
  },
  {
   "cell_type": "markdown",
   "metadata": {},
   "source": [
    "### 2.1 Setup & Import Libraries"
   ]
  },
  {
   "cell_type": "code",
   "execution_count": null,
   "metadata": {},
   "outputs": [],
   "source": [
    "# Install required libraries (if not already installed)\n",
    "import sys\n",
    "print(\"Installing required libraries...\")\n",
    "!{sys.executable} -m pip install pandas numpy matplotlib seaborn scikit-learn imbalanced-learn --quiet\n",
    "\n",
    "# Import libraries\n",
    "import pandas as pd\n",
    "import numpy as np\n",
    "import matplotlib.pyplot as plt\n",
    "import seaborn as sns\n",
    "import warnings\n",
    "warnings.filterwarnings('ignore')\n",
    "\n",
    "# Sklearn imports\n",
    "from sklearn.model_selection import train_test_split, cross_val_score, GridSearchCV\n",
    "from sklearn.preprocessing import LabelEncoder\n",
    "from sklearn.linear_model import LogisticRegression\n",
    "from sklearn.ensemble import RandomForestClassifier\n",
    "from sklearn.metrics import (\n",
    "    accuracy_score, precision_score, recall_score, f1_score,\n",
    "    confusion_matrix, classification_report, roc_auc_score, roc_curve\n",
    ")\n",
    "\n",
    "# Set style\n",
    "sns.set_style(\"whitegrid\")\n",
    "plt.rcParams['figure.figsize'] = (10, 6)\n",
    "\n",
    "print(\"=\"*80)\n",
    "print(\"LIBRARIES IMPORTED SUCCESSFULLY\")\n",
    "print(\"=\"*80)"
   ]
  },
  {
   "cell_type": "markdown",
   "metadata": {},
   "source": [
    "### 2.2 Load Cleaned Dataset"
   ]
  },
  {
   "cell_type": "code",
   "execution_count": null,
   "metadata": {},
   "outputs": [],
   "source": [
    "# Load the cleaned dataset from Phase 1\n",
    "df = pd.read_csv('../Dataset/student_performance_cleaned.csv')\n",
    "\n",
    "print(f\"Dataset loaded successfully!\")\n",
    "print(f\"Shape: {df.shape}\")\n",
    "print(f\"\\nFirst 5 rows:\")\n",
    "display(df.head())\n",
    "\n",
    "print(f\"\\nColumn names:\")\n",
    "print(df.columns.tolist())\n",
    "\n",
    "print(f\"\\nData types:\")\n",
    "print(df.dtypes)"
   ]
  },
  {
   "cell_type": "markdown",
   "metadata": {},
   "source": [
    "### 2.3 Data Preparation"
   ]
  },
  {
   "cell_type": "code",
   "execution_count": null,
   "metadata": {},
   "outputs": [],
   "source": [
    "# Separate features and target\n",
    "# Drop 'Student ID' if it exists (not useful for prediction)\n",
    "X = df.drop(columns=['Passed', 'Student ID'], errors='ignore')\n",
    "y = df['Passed']\n",
    "\n",
    "print(f\"Features (X) shape: {X.shape}\")\n",
    "print(f\"Target (y) shape: {y.shape}\")\n",
    "print(f\"\\nFeature columns: {X.columns.tolist()}\")"
   ]
  },
  {
   "cell_type": "code",
   "execution_count": null,
   "metadata": {},
   "outputs": [],
   "source": [
    "# Encode categorical features (if any)\n",
    "# Check for categorical columns\n",
    "categorical_cols = X.select_dtypes(include=['object']).columns.tolist()\n",
    "print(f\"Categorical columns found: {categorical_cols}\")\n",
    "\n",
    "# Encode categorical features using Label Encoding\n",
    "label_encoders = {}\n",
    "for col in categorical_cols:\n",
    "    le = LabelEncoder()\n",
    "    X[col] = le.fit_transform(X[col])\n",
    "    label_encoders[col] = le\n",
    "    print(f\"Encoded '{col}': {le.classes_}\")\n",
    "\n",
    "print(f\"\\nFeatures after encoding:\")\n",
    "display(X.head())"
   ]
  },
  {
   "cell_type": "code",
   "execution_count": null,
   "metadata": {},
   "outputs": [],
   "source": [
    "# Encode target variable if it's not already numeric\n",
    "if y.dtype == 'object':\n",
    "    target_encoder = LabelEncoder()\n",
    "    y = target_encoder.fit_transform(y)\n",
    "    print(f\"Target encoded: {target_encoder.classes_} -> {np.unique(y)}\")\n",
    "else:\n",
    "    print(f\"Target is already numeric: {np.unique(y)}\")\n",
    "\n",
    "# Check class distribution\n",
    "print(f\"\\nClass distribution:\")\n",
    "print(pd.Series(y).value_counts())\n",
    "print(f\"\\nClass distribution (%):\")\n",
    "print(round(pd.Series(y).value_counts(normalize=True) * 100, 2))"
   ]
  },
  {
   "cell_type": "code",
   "execution_count": null,
   "metadata": {},
   "outputs": [],
   "source": [
    "# Split data into training and testing sets (80/20 split)\n",
    "X_train, X_test, y_train, y_test = train_test_split(\n",
    "    X, y, test_size=0.2, random_state=42, stratify=y\n",
    ")\n",
    "\n",
    "print(f\"Training set size: {X_train.shape[0]} ({X_train.shape[0]/len(X)*100:.1f}%)\")\n",
    "print(f\"Test set size: {X_test.shape[0]} ({X_test.shape[0]/len(X)*100:.1f}%)\")\n",
    "print(f\"\\nTraining set class distribution:\")\n",
    "print(pd.Series(y_train).value_counts())\n",
    "print(f\"\\nTest set class distribution:\")\n",
    "print(pd.Series(y_test).value_counts())"
   ]
  },
  {
   "cell_type": "markdown",
   "metadata": {},
   "source": [
    "---\n",
    "\n",
    "## 3. Model Training & Evaluation"
   ]
  },
  {
   "cell_type": "markdown",
   "metadata": {},
   "source": [
    "### 3.1 Model 1: Logistic Regression"
   ]
  },
  {
   "cell_type": "code",
   "execution_count": null,
   "metadata": {},
   "outputs": [],
   "source": [
    "# Train Logistic Regression model\n",
    "print(\"=\"*80)\n",
    "print(\"TRAINING LOGISTIC REGRESSION MODEL\")\n",
    "print(\"=\"*80)\n",
    "\n",
    "# Initialize model with balanced class weights to handle any class imbalance\n",
    "lr_model = LogisticRegression(\n",
    "    random_state=42,\n",
    "    max_iter=1000,\n",
    "    class_weight='balanced'  # Handles class imbalance\n",
    ")\n",
    "\n",
    "# Train the model\n",
    "lr_model.fit(X_train, y_train)\n",
    "\n",
    "# Make predictions\n",
    "y_pred_lr = lr_model.predict(X_test)\n",
    "y_pred_proba_lr = lr_model.predict_proba(X_test)[:, 1]  # Probability of class 1\n",
    "\n",
    "print(\"✓ Logistic Regression model trained successfully!\")"
   ]
  },
  {
   "cell_type": "code",
   "execution_count": null,
   "metadata": {},
   "outputs": [],
   "source": [
    "# Evaluate Logistic Regression\n",
    "print(\"\\n\" + \"=\"*80)\n",
    "print(\"LOGISTIC REGRESSION - EVALUATION METRICS\")\n",
    "print(\"=\"*80)\n",
    "\n",
    "lr_accuracy = accuracy_score(y_test, y_pred_lr)\n",
    "lr_precision = precision_score(y_test, y_pred_lr, average='binary')\n",
    "lr_recall = recall_score(y_test, y_pred_lr, average='binary')\n",
    "lr_f1 = f1_score(y_test, y_pred_lr, average='binary')\n",
    "lr_roc_auc = roc_auc_score(y_test, y_pred_proba_lr)\n",
    "\n",
    "print(f\"Accuracy:  {lr_accuracy:.4f}\")\n",
    "print(f\"Precision: {lr_precision:.4f}\")\n",
    "print(f\"Recall:    {lr_recall:.4f}\")\n",
    "print(f\"F1-Score:  {lr_f1:.4f}\")\n",
    "print(f\"ROC-AUC:   {lr_roc_auc:.4f}\")\n",
    "\n",
    "print(f\"\\n{'-'*80}\")\n",
    "print(\"Classification Report:\")\n",
    "print(f\"{'-'*80}\")\n",
    "print(classification_report(y_test, y_pred_lr, target_names=['Fail', 'Pass']))"
   ]
  },
  {
   "cell_type": "code",
   "execution_count": null,
   "metadata": {},
   "outputs": [],
   "source": [
    "# Confusion Matrix for Logistic Regression\n",
    "cm_lr = confusion_matrix(y_test, y_pred_lr)\n",
    "\n",
    "plt.figure(figsize=(6, 5))\n",
    "sns.heatmap(cm_lr, annot=True, fmt='d', cmap='Blues', \n",
    "            xticklabels=['Fail', 'Pass'], \n",
    "            yticklabels=['Fail', 'Pass'])\n",
    "plt.title('Confusion Matrix - Logistic Regression', fontsize=14, weight='bold')\n",
    "plt.ylabel('True Label')\n",
    "plt.xlabel('Predicted Label')\n",
    "plt.show()\n",
    "\n",
    "print(f\"True Negatives:  {cm_lr[0,0]}\")\n",
    "print(f\"False Positives: {cm_lr[0,1]}\")\n",
    "print(f\"False Negatives: {cm_lr[1,0]}\")\n",
    "print(f\"True Positives:  {cm_lr[1,1]}\")"
   ]
  },
  {
   "cell_type": "markdown",
   "metadata": {},
   "source": [
    "### 3.2 Model 2: Random Forest Classifier"
   ]
  },
  {
   "cell_type": "code",
   "execution_count": null,
   "metadata": {},
   "outputs": [],
   "source": [
    "# Train Random Forest model\n",
    "print(\"=\"*80)\n",
    "print(\"TRAINING RANDOM FOREST CLASSIFIER\")\n",
    "print(\"=\"*80)\n",
    "\n",
    "# Initialize model with optimized hyperparameters\n",
    "rf_model = RandomForestClassifier(\n",
    "    n_estimators=100,       # Number of trees\n",
    "    max_depth=10,           # Maximum depth of trees\n",
    "    min_samples_split=10,   # Minimum samples to split a node\n",
    "    min_samples_leaf=4,     # Minimum samples in leaf node\n",
    "    random_state=42,\n",
    "    class_weight='balanced', # Handle class imbalance\n",
    "    n_jobs=-1               # Use all CPU cores\n",
    ")\n",
    "\n",
    "# Train the model\n",
    "rf_model.fit(X_train, y_train)\n",
    "\n",
    "# Make predictions\n",
    "y_pred_rf = rf_model.predict(X_test)\n",
    "y_pred_proba_rf = rf_model.predict_proba(X_test)[:, 1]\n",
    "\n",
    "print(\"✓ Random Forest model trained successfully!\")"
   ]
  },
  {
   "cell_type": "code",
   "execution_count": null,
   "metadata": {},
   "outputs": [],
   "source": [
    "# Evaluate Random Forest\n",
    "print(\"\\n\" + \"=\"*80)\n",
    "print(\"RANDOM FOREST - EVALUATION METRICS\")\n",
    "print(\"=\"*80)\n",
    "\n",
    "rf_accuracy = accuracy_score(y_test, y_pred_rf)\n",
    "rf_precision = precision_score(y_test, y_pred_rf, average='binary')\n",
    "rf_recall = recall_score(y_test, y_pred_rf, average='binary')\n",
    "rf_f1 = f1_score(y_test, y_pred_rf, average='binary')\n",
    "rf_roc_auc = roc_auc_score(y_test, y_pred_proba_rf)\n",
    "\n",
    "print(f\"Accuracy:  {rf_accuracy:.4f}\")\n",
    "print(f\"Precision: {rf_precision:.4f}\")\n",
    "print(f\"Recall:    {rf_recall:.4f}\")\n",
    "print(f\"F1-Score:  {rf_f1:.4f}\")\n",
    "print(f\"ROC-AUC:   {rf_roc_auc:.4f}\")\n",
    "\n",
    "print(f\"\\n{'-'*80}\")\n",
    "print(\"Classification Report:\")\n",
    "print(f\"{'-'*80}\")\n",
    "print(classification_report(y_test, y_pred_rf, target_names=['Fail', 'Pass']))"
   ]
  },
  {
   "cell_type": "code",
   "execution_count": null,
   "metadata": {},
   "outputs": [],
   "source": [
    "# Confusion Matrix for Random Forest\n",
    "cm_rf = confusion_matrix(y_test, y_pred_rf)\n",
    "\n",
    "plt.figure(figsize=(6, 5))\n",
    "sns.heatmap(cm_rf, annot=True, fmt='d', cmap='Greens',\n",
    "            xticklabels=['Fail', 'Pass'],\n",
    "            yticklabels=['Fail', 'Pass'])\n",
    "plt.title('Confusion Matrix - Random Forest', fontsize=14, weight='bold')\n",
    "plt.ylabel('True Label')\n",
    "plt.xlabel('Predicted Label')\n",
    "plt.show()\n",
    "\n",
    "print(f\"True Negatives:  {cm_rf[0,0]}\")\n",
    "print(f\"False Positives: {cm_rf[0,1]}\")\n",
    "print(f\"False Negatives: {cm_rf[1,0]}\")\n",
    "print(f\"True Positives:  {cm_rf[1,1]}\")"
   ]
  },
  {
   "cell_type": "markdown",
   "metadata": {},
   "source": [
    "### 3.3 Feature Importance (Random Forest Only)"
   ]
  },
  {
   "cell_type": "code",
   "execution_count": null,
   "metadata": {},
   "outputs": [],
   "source": [
    "# Get feature importances from Random Forest\n",
    "feature_importance = pd.DataFrame({\n",
    "    'Feature': X.columns,\n",
    "    'Importance': rf_model.feature_importances_\n",
    "}).sort_values(by='Importance', ascending=False)\n",
    "\n",
    "print(\"Feature Importance (Random Forest):\")\n",
    "display(feature_importance)\n",
    "\n",
    "# Plot feature importance\n",
    "plt.figure(figsize=(10, 6))\n",
    "sns.barplot(data=feature_importance, x='Importance', y='Feature', palette='viridis')\n",
    "plt.title('Feature Importance - Random Forest', fontsize=14, weight='bold')\n",
    "plt.xlabel('Importance Score')\n",
    "plt.ylabel('Feature')\n",
    "plt.tight_layout()\n",
    "plt.show()"
   ]
  },
  {
   "cell_type": "markdown",
   "metadata": {},
   "source": [
    "---\n",
    "\n",
    "## 4. Model Comparison"
   ]
  },
  {
   "cell_type": "code",
   "execution_count": null,
   "metadata": {},
   "outputs": [],
   "source": [
    "# Create comparison dataframe\n",
    "comparison = pd.DataFrame({\n",
    "    'Model': ['Logistic Regression', 'Random Forest'],\n",
    "    'Accuracy': [lr_accuracy, rf_accuracy],\n",
    "    'Precision': [lr_precision, rf_precision],\n",
    "    'Recall': [lr_recall, rf_recall],\n",
    "    'F1-Score': [lr_f1, rf_f1],\n",
    "    'ROC-AUC': [lr_roc_auc, rf_roc_auc]\n",
    "})\n",
    "\n",
    "print(\"=\"*80)\n",
    "print(\"MODEL COMPARISON\")\n",
    "print(\"=\"*80)\n",
    "display(comparison)\n",
    "\n",
    "# Highlight best scores\n",
    "print(\"\\n📊 Best Performance:\")\n",
    "for metric in ['Accuracy', 'Precision', 'Recall', 'F1-Score', 'ROC-AUC']:\n",
    "    best_idx = comparison[metric].idxmax()\n",
    "    best_model = comparison.loc[best_idx, 'Model']\n",
    "    best_score = comparison.loc[best_idx, metric]\n",
    "    print(f\"  {metric:12s}: {best_model:20s} ({best_score:.4f})\")"
   ]
  },
  {
   "cell_type": "code",
   "execution_count": null,
   "metadata": {},
   "outputs": [],
   "source": [
    "# Visualize model comparison\n",
    "metrics = ['Accuracy', 'Precision', 'Recall', 'F1-Score', 'ROC-AUC']\n",
    "lr_scores = [lr_accuracy, lr_precision, lr_recall, lr_f1, lr_roc_auc]\n",
    "rf_scores = [rf_accuracy, rf_precision, rf_recall, rf_f1, rf_roc_auc]\n",
    "\n",
    "x = np.arange(len(metrics))\n",
    "width = 0.35\n",
    "\n",
    "fig, ax = plt.subplots(figsize=(12, 6))\n",
    "bars1 = ax.bar(x - width/2, lr_scores, width, label='Logistic Regression', color='#4C72B0')\n",
    "bars2 = ax.bar(x + width/2, rf_scores, width, label='Random Forest', color='#55A868')\n",
    "\n",
    "ax.set_xlabel('Metrics', fontsize=12)\n",
    "ax.set_ylabel('Score', fontsize=12)\n",
    "ax.set_title('Model Performance Comparison', fontsize=14, weight='bold')\n",
    "ax.set_xticks(x)\n",
    "ax.set_xticklabels(metrics)\n",
    "ax.legend()\n",
    "ax.set_ylim([0, 1])\n",
    "ax.grid(axis='y', alpha=0.3)\n",
    "\n",
    "# Add value labels on bars\n",
    "for bars in [bars1, bars2]:\n",
    "    for bar in bars:\n",
    "        height = bar.get_height()\n",
    "        ax.text(bar.get_x() + bar.get_width()/2., height,\n",
    "                f'{height:.3f}',\n",
    "                ha='center', va='bottom', fontsize=9)\n",
    "\n",
    "plt.tight_layout()\n",
    "plt.show()"
   ]
  },
  {
   "cell_type": "markdown",
   "metadata": {},
   "source": [
    "### 4.1 ROC Curve Comparison"
   ]
  },
  {
   "cell_type": "code",
   "execution_count": null,
   "metadata": {},
   "outputs": [],
   "source": [
    "# Plot ROC curves for both models\n",
    "fpr_lr, tpr_lr, _ = roc_curve(y_test, y_pred_proba_lr)\n",
    "fpr_rf, tpr_rf, _ = roc_curve(y_test, y_pred_proba_rf)\n",
    "\n",
    "plt.figure(figsize=(8, 6))\n",
    "plt.plot(fpr_lr, tpr_lr, label=f'Logistic Regression (AUC = {lr_roc_auc:.3f})', \n",
    "         color='#4C72B0', linewidth=2)\n",
    "plt.plot(fpr_rf, tpr_rf, label=f'Random Forest (AUC = {rf_roc_auc:.3f})', \n",
    "         color='#55A868', linewidth=2)\n",
    "plt.plot([0, 1], [0, 1], 'k--', label='Random Classifier', linewidth=1)\n",
    "\n",
    "plt.xlabel('False Positive Rate', fontsize=12)\n",
    "plt.ylabel('True Positive Rate', fontsize=12)\n",
    "plt.title('ROC Curve Comparison', fontsize=14, weight='bold')\n",
    "plt.legend(loc='lower right', fontsize=10)\n",
    "plt.grid(alpha=0.3)\n",
    "plt.tight_layout()\n",
    "plt.show()"
   ]
  },
  {
   "cell_type": "markdown",
   "metadata": {},
   "source": [
    "### 4.2 Cross-Validation (Optional - for robustness check)"
   ]
  },
  {
   "cell_type": "code",
   "execution_count": null,
   "metadata": {},
   "outputs": [],
   "source": [
    "# Perform 5-fold cross-validation on both models\n",
    "print(\"Performing 5-Fold Cross-Validation...\\n\")\n",
    "\n",
    "# Logistic Regression CV\n",
    "lr_cv_scores = cross_val_score(lr_model, X_train, y_train, cv=5, scoring='accuracy')\n",
    "print(f\"Logistic Regression CV Accuracy: {lr_cv_scores.mean():.4f} (+/- {lr_cv_scores.std():.4f})\")\n",
    "\n",
    "# Random Forest CV\n",
    "rf_cv_scores = cross_val_score(rf_model, X_train, y_train, cv=5, scoring='accuracy')\n",
    "print(f\"Random Forest CV Accuracy:       {rf_cv_scores.mean():.4f} (+/- {rf_cv_scores.std():.4f})\")\n",
    "\n",
    "# Plot CV scores\n",
    "cv_results = pd.DataFrame({\n",
    "    'Fold': list(range(1, 6)) * 2,\n",
    "    'Accuracy': list(lr_cv_scores) + list(rf_cv_scores),\n",
    "    'Model': ['Logistic Regression']*5 + ['Random Forest']*5\n",
    "})\n",
    "\n",
    "plt.figure(figsize=(10, 5))\n",
    "sns.barplot(data=cv_results, x='Fold', y='Accuracy', hue='Model', palette=['#4C72B0', '#55A868'])\n",
    "plt.title('Cross-Validation Accuracy by Fold', fontsize=14, weight='bold')\n",
    "plt.ylabel('Accuracy')\n",
    "plt.xlabel('Fold')\n",
    "plt.ylim([0.5, 1.0])\n",
    "plt.legend(title='Model')\n",
    "plt.tight_layout()\n",
    "plt.show()"
   ]
  },
  {
   "cell_type": "markdown",
   "metadata": {},
   "source": [
    "---\n",
    "\n",
    "## 5. Results Interpretation & Key Findings"
   ]
  },
  {
   "cell_type": "markdown",
   "metadata": {},
   "source": [
    "### 5.1 Which Model Performed Best?\n",
    "\n",
    "Based on the evaluation metrics:\n",
    "\n",
    "**Winner: [Model Name]** (Fill this in after running the notebook)\n",
    "\n",
    "**Justification:**\n",
    "- **Accuracy:** [Describe which model had higher accuracy]\n",
    "- **Precision:** [Discuss precision - important if we want to avoid false positives (predicting Pass when actually Fail)]\n",
    "- **Recall:** [Discuss recall - important if we want to catch all students who might fail]\n",
    "- **F1-Score:** [Balanced metric - good for overall assessment]\n",
    "- **ROC-AUC:** [Measures the model's ability to distinguish between classes]\n",
    "\n",
    "### 5.2 Key Findings\n",
    "\n",
    "1. **Model Performance:**\n",
    "   - Both models achieved [high/moderate/low] accuracy (>XX%)\n",
    "   - Random Forest [outperformed/underperformed] Logistic Regression, suggesting [linear/non-linear] relationships in the data\n",
    "\n",
    "2. **Feature Importance (from Random Forest):**\n",
    "   - **Most Important Feature:** [Feature name] - This makes sense because [explain why]\n",
    "   - **Least Important Feature:** [Feature name] - Could potentially be removed in future iterations\n",
    "\n",
    "3. **Class Imbalance Impact:**\n",
    "   - Used `class_weight='balanced'` to handle imbalance\n",
    "   - [Discuss if the imbalance affected performance, check confusion matrix]\n",
    "\n",
    "4. **Confusion Matrix Insights:**\n",
    "   - **False Positives:** [Number] students predicted to pass but actually failed - [Discuss implications]\n",
    "   - **False Negatives:** [Number] students predicted to fail but actually passed - [Discuss implications]\n",
    "   - For educational advice systems, [False Positives/False Negatives] are more critical because...\n",
    "\n",
    "5. **Cross-Validation Results:**\n",
    "   - [Model name] showed more consistent performance across folds (lower standard deviation)\n",
    "   - This indicates [better/worse] generalization to unseen data\n",
    "\n",
    "### 5.3 Practical Implications\n",
    "\n",
    "- **For Educators:** The model can identify at-risk students early based on [key features]\n",
    "- **For Students:** Understanding that [most important feature] has the strongest impact can guide study strategies\n",
    "- **For System Design:** [Winning model] should be used for the advice system due to its superior [metric]\n",
    "\n",
    "### 5.4 Limitations & Future Improvements\n",
    "\n",
    "- **Data Size:** ~40K samples is moderate; more data could improve performance\n",
    "- **Feature Engineering:** Could explore interactions between features (e.g., study hours × attendance)\n",
    "- **Hyperparameter Tuning:** Used basic hyperparameters; GridSearchCV could optimize further\n",
    "- **Algorithm Exploration:** Could try XGBoost, LightGBM, or Neural Networks in future phases\n",
    "\n",
    "---\n",
    "\n",
    "**Conclusion:**  \n",
    "[Winning model] is recommended for Phase 3 integration due to its [best metric] of [score] and ability to [key strength]. The system can now predict student outcomes with [XX%] accuracy, enabling proactive academic support."
   ]
  },
  {
   "cell_type": "markdown",
   "metadata": {},
   "source": [
    "---\n",
    "\n",
    "## 6. Save Models (Optional)"
   ]
  },
  {
   "cell_type": "code",
   "execution_count": null,
   "metadata": {},
   "outputs": [],
   "source": [
    "# Save trained models for future use\n",
    "import joblib\n",
    "\n",
    "# Create models directory if it doesn't exist\n",
    "import os\n",
    "os.makedirs('models', exist_ok=True)\n",
    "\n",
    "# Save models\n",
    "joblib.dump(lr_model, 'models/logistic_regression_model.pkl')\n",
    "joblib.dump(rf_model, 'models/random_forest_model.pkl')\n",
    "\n",
    "print(\"✓ Models saved successfully!\")\n",
    "print(\"  - models/logistic_regression_model.pkl\")\n",
    "print(\"  - models/random_forest_model.pkl\")"
   ]
  },
  {
   "cell_type": "markdown",
   "metadata": {},
   "source": [
    "---\n",
    "\n",
    "**End of Phase 2**\n",
    "\n",
    "**Next Steps:** Phase 3 will apply unsupervised learning (clustering) to discover patterns in student data and potentially improve the supervised model."
   ]
  }
 ],
 "metadata": {
  "kernelspec": {
   "display_name": "Python 3",
   "language": "python",
   "name": "python3"
  },
  "language_info": {
   "codemirror_mode": {
    "name": "ipython",
    "version": 3
   },
   "file_extension": ".py",
   "mimetype": "text/x-python",
   "name": "python",
   "nbconvert_exporter": "python",
   "pygments_lexer": "ipython3",
   "version": "3.8.0"
  }
 },
 "nbformat": 4,
 "nbformat_minor": 4
}
